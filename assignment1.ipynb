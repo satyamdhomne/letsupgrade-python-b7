{
 "cells": [
  {
   "cell_type": "code",
   "execution_count": 149,
   "metadata": {},
   "outputs": [
    {
     "name": "stdout",
     "output_type": "stream",
     "text": [
      "land tha plane\n"
     ]
    }
   ],
   "source": [
    " originalaltitude=1000\n",
    " \n",
    " lessaltitude=5000\n",
    " \n",
    " morealtitude=5000\n",
    "\n",
    " if  originalaltitude== 1000:\n",
    "        print(\"land tha plane\")\n",
    "   \n",
    "elif lessaltiude<5000:\n",
    "        print(\"bring down to 1000\")\n",
    "   \n",
    "else:\n",
    "         print(\"go around and try later\")\n",
    "           "
   ]
  },
  {
   "cell_type": "code",
   "execution_count": null,
   "metadata": {},
   "outputs": [],
   "source": []
  },
  {
   "cell_type": "code",
   "execution_count": null,
   "metadata": {},
   "outputs": [],
   "source": []
  },
  {
   "cell_type": "code",
   "execution_count": null,
   "metadata": {},
   "outputs": [],
   "source": []
  }
 ],
 "metadata": {
  "kernelspec": {
   "display_name": "Python 3",
   "language": "python",
   "name": "python3"
  }
 },
 "nbformat": 4,
 "nbformat_minor": 4
}
